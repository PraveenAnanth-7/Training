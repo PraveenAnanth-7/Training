{
  "nbformat": 4,
  "nbformat_minor": 0,
  "metadata": {
    "colab": {
      "provenance": []
    },
    "kernelspec": {
      "name": "python3",
      "display_name": "Python 3"
    },
    "language_info": {
      "name": "python"
    }
  },
  "cells": [
    {
      "cell_type": "code",
      "source": [
        "import pandas as pd\n",
        "import numpy as np\n",
        "from sklearn.datasets import fetch_california_housing\n",
        "from sklearn.model_selection import cross_val_score\n",
        "from sklearn.linear_model import LinearRegression\n",
        "from sklearn.ensemble import RandomForestRegressor\n",
        "\n",
        "data = fetch_california_housing()\n",
        "X = pd.DataFrame(data.data, columns=data.feature_names)\n",
        "y = data.target\n",
        "\n",
        "lr = LinearRegression()\n",
        "rf = RandomForestRegressor(n_estimators=100, random_state=42)\n",
        "\n",
        "lr_scores = cross_val_score(lr, X, y, cv=5, scoring='neg_mean_squared_error')\n",
        "rf_scores = cross_val_score(rf, X, y, cv=5, scoring='neg_mean_squared_error')\n",
        "\n",
        "results = pd.DataFrame({\n",
        "    'Model': ['Linear Regression', 'Random Forest'],\n",
        "    'Mean MSE': [-np.mean(lr_scores), -np.mean(rf_scores)],\n",
        "    'Std MSE': [np.std(lr_scores), np.std(rf_scores)]\n",
        "})\n",
        "\n",
        "print(results)\n"
      ],
      "metadata": {
        "colab": {
          "base_uri": "https://localhost:8080/"
        },
        "id": "a9NdGilXIv4o",
        "outputId": "56c3f062-6f83-40c6-d316-7225734916f3"
      },
      "execution_count": 3,
      "outputs": [
        {
          "output_type": "stream",
          "name": "stdout",
          "text": [
            "               Model  Mean MSE   Std MSE\n",
            "0  Linear Regression  0.558290  0.065602\n",
            "1      Random Forest  0.425462  0.062373\n"
          ]
        }
      ]
    }
  ]
}