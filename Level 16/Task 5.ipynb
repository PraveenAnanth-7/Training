{
  "nbformat": 4,
  "nbformat_minor": 0,
  "metadata": {
    "colab": {
      "provenance": []
    },
    "kernelspec": {
      "name": "python3",
      "display_name": "Python 3"
    },
    "language_info": {
      "name": "python"
    }
  },
  "cells": [
    {
      "cell_type": "code",
      "source": [
        "import pandas as pd\n",
        "from sklearn.datasets import fetch_california_housing\n",
        "from sklearn.ensemble import RandomForestRegressor, StackingRegressor\n",
        "from sklearn.linear_model import LinearRegression\n",
        "from xgboost import XGBRegressor\n",
        "from sklearn.model_selection import train_test_split\n",
        "from sklearn.preprocessing import StandardScaler\n",
        "from sklearn.metrics import mean_squared_error\n",
        "\n",
        "data = fetch_california_housing()\n",
        "X = pd.DataFrame(data.data, columns=data.feature_names)\n",
        "y = data.target\n",
        "\n",
        "X_train, X_test, y_train, y_test = train_test_split(X, y, test_size=0.2, random_state=42)\n",
        "\n",
        "scaler = StandardScaler()\n",
        "X_train_scaled = scaler.fit_transform(X_train)\n",
        "X_test_scaled = scaler.transform(X_test)\n",
        "\n",
        "rf = RandomForestRegressor(n_estimators=100, random_state=42)\n",
        "xgb = XGBRegressor()\n",
        "meta_model = LinearRegression()\n",
        "\n",
        "stack = StackingRegressor(estimators=[('rf', rf), ('xgb', xgb)], final_estimator=meta_model)\n",
        "rf.fit(X_train_scaled, y_train)\n",
        "xgb.fit(X_train_scaled, y_train)\n",
        "stack.fit(X_train_scaled, y_train)\n",
        "\n",
        "rf_pred = rf.predict(X_test_scaled)\n",
        "xgb_pred = xgb.predict(X_test_scaled)\n",
        "stack_pred = stack.predict(X_test_scaled)\n",
        "\n",
        "rf_mse = mean_squared_error(y_test, rf_pred)\n",
        "xgb_mse = mean_squared_error(y_test, xgb_pred)\n",
        "stack_mse = mean_squared_error(y_test, stack_pred)\n",
        "\n",
        "results = pd.DataFrame({\n",
        "    'Model': ['Random Forest', 'XGBoost', 'Stacked'],\n",
        "    'MSE': [rf_mse, xgb_mse, stack_mse]\n",
        "})\n",
        "\n",
        "print(results)\n"
      ],
      "metadata": {
        "colab": {
          "base_uri": "https://localhost:8080/"
        },
        "id": "a9NdGilXIv4o",
        "outputId": "a2d95a7c-ed8e-4b46-eec5-a77e0944bd4d"
      },
      "execution_count": 5,
      "outputs": [
        {
          "output_type": "stream",
          "name": "stdout",
          "text": [
            "           Model       MSE\n",
            "0  Random Forest  0.255170\n",
            "1        XGBoost  0.222590\n",
            "2        Stacked  0.217038\n"
          ]
        }
      ]
    }
  ]
}