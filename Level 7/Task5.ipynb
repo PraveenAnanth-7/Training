{
 "cells": [
  {
   "cell_type": "code",
   "execution_count": 1,
   "metadata": {},
   "outputs": [
    {
     "name": "stdout",
     "output_type": "stream",
     "text": [
      "Simulated Probability of rolling a 1 or 3: 0.3320\n",
      "Theoretical Probability: 0.3333\n"
     ]
    }
   ],
   "source": [
    "import numpy as np\n",
    "rolls = np.random.randint(1, 7, 1000)\n",
    "count_1_or_3 = np.sum((rolls == 1) | (rolls == 3))\n",
    "simulated_prob = count_1_or_3 / 1000\n",
    "theoretical_prob = 1/6 + 1/6\n",
    "print(f\"Simulated Probability of rolling a 1 or 3: {simulated_prob:.4f}\")\n",
    "print(f\"Theoretical Probability: {theoretical_prob:.4f}\")\n"
   ]
  }
 ],
 "metadata": {
  "kernelspec": {
   "display_name": "Python 3",
   "language": "python",
   "name": "python3"
  },
  "language_info": {
   "codemirror_mode": {
    "name": "ipython",
    "version": 3
   },
   "file_extension": ".py",
   "mimetype": "text/x-python",
   "name": "python",
   "nbconvert_exporter": "python",
   "pygments_lexer": "ipython3",
   "version": "3.12.4"
  }
 },
 "nbformat": 4,
 "nbformat_minor": 2
}
