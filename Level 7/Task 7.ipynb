{
 "cells": [
  {
   "cell_type": "code",
   "execution_count": 2,
   "metadata": {},
   "outputs": [],
   "source": [
    "import numpy as np"
   ]
  },
  {
   "cell_type": "code",
   "execution_count": 3,
   "metadata": {},
   "outputs": [
    {
     "name": "stdout",
     "output_type": "stream",
     "text": [
      "Simulated Probability of rolling a 5 then a 4: 0.0280\n",
      "Theoretical Probability: 0.0278\n"
     ]
    }
   ],
   "source": [
    "rolls1 = np.random.randint(1, 7, 1000)\n",
    "rolls2 = np.random.randint(1, 7, 1000)\n",
    "count_5_then_4 = np.sum((rolls1 == 5) & (rolls2 == 4))\n",
    "simulated_prob = count_5_then_4 / 1000\n",
    "theoretical_prob = (1/6) * (1/6)\n",
    "print(f\"Simulated Probability of rolling a 5 then a 4: {simulated_prob:.4f}\")\n",
    "print(f\"Theoretical Probability: {theoretical_prob:.4f}\")"
   ]
  }
 ],
 "metadata": {
  "kernelspec": {
   "display_name": "Python 3",
   "language": "python",
   "name": "python3"
  },
  "language_info": {
   "codemirror_mode": {
    "name": "ipython",
    "version": 3
   },
   "file_extension": ".py",
   "mimetype": "text/x-python",
   "name": "python",
   "nbconvert_exporter": "python",
   "pygments_lexer": "ipython3",
   "version": "3.12.4"
  }
 },
 "nbformat": 4,
 "nbformat_minor": 2
}
