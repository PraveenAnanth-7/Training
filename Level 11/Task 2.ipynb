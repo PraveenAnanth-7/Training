{
 "cells": [
  {
   "cell_type": "code",
   "execution_count": null,
   "id": "ac19d501",
   "metadata": {},
   "outputs": [
    {
     "name": "stdout",
     "output_type": "stream",
     "text": [
      "       Selling Price  Kilometers Driven         Year  Car Condition\n",
      "count   2.237000e+03        2237.000000  2237.000000    2237.000000\n",
      "mean    4.184431e+05       61928.605275  2013.763523       4.370854\n",
      "std     2.280516e+05       42260.955917     2.874686       0.288990\n",
      "min     7.529900e+04         913.000000  2006.000000       3.000000\n",
      "25%     2.720990e+05       32137.000000  2012.000000       4.200000\n",
      "50%     3.557990e+05       55430.000000  2014.000000       4.300000\n",
      "75%     5.032990e+05       83427.000000  2016.000000       4.600000\n",
      "max     1.952397e+06      855881.000000  2020.000000       5.000000\n",
      "<class 'pandas.core.frame.DataFrame'>\n",
      "RangeIndex: 2237 entries, 0 to 2236\n",
      "Data columns (total 9 columns):\n",
      " #   Column             Non-Null Count  Dtype  \n",
      "---  ------             --------------  -----  \n",
      " 0   Model              2237 non-null   object \n",
      " 1   Selling Price      2237 non-null   int64  \n",
      " 2   Kilometers Driven  2237 non-null   int64  \n",
      " 3   Year               2237 non-null   int64  \n",
      " 4   Owner              2237 non-null   object \n",
      " 5   Fuel Type          2237 non-null   object \n",
      " 6   Transmission       2237 non-null   object \n",
      " 7   Insurance          2223 non-null   object \n",
      " 8   Car Condition      2237 non-null   float64\n",
      "dtypes: float64(1), int64(3), object(5)\n",
      "memory usage: 157.4+ KB\n",
      "None\n",
      "                Model  Selling Price  Kilometers Driven  Year        Owner  \\\n",
      "0  MarutiWagonR1.0LXI         312165              82238  2014  First Owner   \n",
      "1     ToyotaEtiosLiva         313799              30558  2013  First Owner   \n",
      "2       MarutiAlto800         295999              22164  2018  First Owner   \n",
      "3         MarutiSwift         435199              30535  2013  First Owner   \n",
      "4     MarutiWagonR1.0         289099              15738  2013  First Owner   \n",
      "\n",
      "      Fuel Type Transmission   Insurance  Car Condition  \n",
      "0  Petrol + CNG       MANUAL     Expired            4.2  \n",
      "1        Petrol       MANUAL  12-09-2021            4.4  \n",
      "2        Petrol       MANUAL  01-12-2020            4.8  \n",
      "3        Diesel       MANUAL        Comp            4.3  \n",
      "4        Petrol       MANUAL  11-08-2021            4.3  \n"
     ]
    },
    {
     "data": {
      "text/plain": [
       "Index(['Model', 'Selling Price', 'Kilometers Driven', 'Year', 'Owner',\n",
       "       'Fuel Type', 'Transmission', 'Insurance', 'Car Condition'],\n",
       "      dtype='object')"
      ]
     },
     "execution_count": 4,
     "metadata": {},
     "output_type": "execute_result"
    }
   ],
   "source": [
    "import pandas as pd\n",
    "import numpy as np\n",
    "from sklearn.model_selection import train_test_split\n",
    "from sklearn.linear_model import LinearRegression\n",
    "from sklearn.metrics import mean_squared_error, r2_score\n",
    "df = pd.read_csv('car_data.csv') \n",
    "print(df.describe())\n",
    "print(df.info())\n",
    "print(df.head())\n",
    "df.columns"
   ]
  },
  {
   "cell_type": "code",
   "execution_count": 7,
   "id": "e4dcb20e",
   "metadata": {},
   "outputs": [
    {
     "name": "stdout",
     "output_type": "stream",
     "text": [
      "\n",
      " Coefficient Table:\n",
      "              Feature   Coefficient\n",
      "25  Transmission_HR12  4.275201e+05\n",
      "16  Transmission_DL8C  4.154083e+05\n",
      "51  Transmission_RJ14 -3.822905e+05\n",
      "53  Transmission_TN02 -3.243038e+05\n",
      "41  Transmission_MH04  2.919484e+05\n",
      "..                ...           ...\n",
      "52  Transmission_RJ45 -3.152573e-05\n",
      "49  Transmission_PB11 -1.341749e-05\n",
      "21  Transmission_GJ18 -1.076411e-05\n",
      "10  Transmission_DL14  8.806965e-07\n",
      "55  Transmission_TN12  3.388712e-11\n",
      "\n",
      "[63 rows x 2 columns]\n",
      "\n",
      " Model Performance:\n",
      "Intercept: -67130628.06\n",
      "R² Score: 0.4788\n",
      "Mean Squared Error: 24104359606.28\n",
      "\n",
      " Most impactful feature: 'Transmission_HR12' with coefficient 427520.10\n"
     ]
    }
   ],
   "source": [
    "selected_cols = ['Selling Price', 'Kilometers Driven', 'Year', 'Car Condition', 'Fuel Type', 'Transmission']\n",
    "df = df[selected_cols]\n",
    "df.dropna(inplace=True)\n",
    "\n",
    "df_encoded = pd.get_dummies(df, columns=['Fuel Type', 'Transmission'], drop_first=True)\n",
    "\n",
    "X = df_encoded.drop('Selling Price', axis=1)\n",
    "y = df_encoded['Selling Price']\n",
    "\n",
    "X_train, X_test, y_train, y_test = train_test_split(X, y, test_size=0.2, random_state=42)\n",
    "\n",
    "model = LinearRegression()\n",
    "model.fit(X_train, y_train)\n",
    "\n",
    "y_pred = model.predict(X_test)\n",
    "\n",
    "r2 = r2_score(y_test, y_pred)\n",
    "mse = mean_squared_error(y_test, y_pred)\n",
    "\n",
    "coef_df = pd.DataFrame({\n",
    "    'Feature': X.columns,\n",
    "    'Coefficient': model.coef_\n",
    "}).sort_values(by='Coefficient', key=abs, ascending=False)\n",
    "\n",
    "print(\"\\n Coefficient Table:\")\n",
    "print(coef_df)\n",
    "\n",
    "print(\"\\n Model Performance:\")\n",
    "print(f\"Intercept: {model.intercept_:.2f}\")\n",
    "print(f\"R² Score: {r2:.4f}\")\n",
    "print(f\"Mean Squared Error: {mse:.2f}\")\n",
    "top_feature = coef_df.iloc[0]\n",
    "print(f\"\\n Most impactful feature: '{top_feature['Feature']}' with coefficient {top_feature['Coefficient']:.2f}\")\n"
   ]
  }
 ],
 "metadata": {
  "kernelspec": {
   "display_name": "Python 3",
   "language": "python",
   "name": "python3"
  },
  "language_info": {
   "codemirror_mode": {
    "name": "ipython",
    "version": 3
   },
   "file_extension": ".py",
   "mimetype": "text/x-python",
   "name": "python",
   "nbconvert_exporter": "python",
   "pygments_lexer": "ipython3",
   "version": "3.12.4"
  }
 },
 "nbformat": 4,
 "nbformat_minor": 5
}
