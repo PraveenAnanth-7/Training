{
 "cells": [
  {
   "cell_type": "code",
   "execution_count": 1,
   "id": "418e925a",
   "metadata": {},
   "outputs": [
    {
     "name": "stdout",
     "output_type": "stream",
     "text": [
      "Final Dictionary: {'x': 90, 'y': 80, 'z': 30}\n"
     ]
    }
   ],
   "source": [
    "dict = {}\n",
    "for _ in range(3):\n",
    "    key = input(\"Enter a key (string): \")\n",
    "    value = int(input(\"Enter a value (integer): \"))\n",
    "    dict[key] = value\n",
    "print(\"Final Dictionary:\", dict)"
   ]
  }
 ],
 "metadata": {
  "kernelspec": {
   "display_name": "Python 3",
   "language": "python",
   "name": "python3"
  },
  "language_info": {
   "codemirror_mode": {
    "name": "ipython",
    "version": 3
   },
   "file_extension": ".py",
   "mimetype": "text/x-python",
   "name": "python",
   "nbconvert_exporter": "python",
   "pygments_lexer": "ipython3",
   "version": "3.12.4"
  }
 },
 "nbformat": 4,
 "nbformat_minor": 5
}
