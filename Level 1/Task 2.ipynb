{
 "cells": [
  {
   "cell_type": "code",
   "execution_count": null,
   "id": "8fa4fec7",
   "metadata": {},
   "outputs": [
    {
     "name": "stdout",
     "output_type": "stream",
     "text": [
      "[1, 2, 3, 4] {2, 4, 6} (1, 3, 5) {'a': 1, 'b': 2, 'c': 3}\n"
     ]
    }
   ],
   "source": [
    "list1 = [1,2,3]\n",
    "list1.append(4)\n",
    "list1\n",
    "set1 = {2,4,4,6}\n",
    "set1\n",
    "tuple1 = (1,3,5)\n",
    "tuple1\n",
    "dic1 = {\"a\":1, \"b\":2 }\n",
    "dic1\n",
    "dic1[\"c\"] = 3\n",
    "dic1\n",
    "print(list1, set1, tuple1, dic1)\n"
   ]
  }
 ],
 "metadata": {
  "kernelspec": {
   "display_name": "Python 3",
   "language": "python",
   "name": "python3"
  },
  "language_info": {
   "codemirror_mode": {
    "name": "ipython",
    "version": 3
   },
   "file_extension": ".py",
   "mimetype": "text/x-python",
   "name": "python",
   "nbconvert_exporter": "python",
   "pygments_lexer": "ipython3",
   "version": "3.12.4"
  }
 },
 "nbformat": 4,
 "nbformat_minor": 5
}
