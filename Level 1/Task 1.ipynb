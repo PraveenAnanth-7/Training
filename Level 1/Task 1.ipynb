{
 "cells": [
  {
   "cell_type": "code",
   "execution_count": 1,
   "id": "d9c8d2a0",
   "metadata": {},
   "outputs": [
    {
     "name": "stdout",
     "output_type": "stream",
     "text": [
      "Hello Python!\n",
      "Hello, Python! \n",
      " 5 + 3 = 8\n"
     ]
    }
   ],
   "source": [
    "a = \"Hello Python!\"\n",
    "print(a)\n",
    "s = 5\n",
    "t = 3\n",
    "s+t\n",
    "print(f\"Hello, Python! \\n 5 + 3 = {s + t}\")"
   ]
  }
 ],
 "metadata": {
  "kernelspec": {
   "display_name": "Python 3",
   "language": "python",
   "name": "python3"
  },
  "language_info": {
   "codemirror_mode": {
    "name": "ipython",
    "version": 3
   },
   "file_extension": ".py",
   "mimetype": "text/x-python",
   "name": "python",
   "nbconvert_exporter": "python",
   "pygments_lexer": "ipython3",
   "version": "3.12.4"
  }
 },
 "nbformat": 4,
 "nbformat_minor": 5
}
