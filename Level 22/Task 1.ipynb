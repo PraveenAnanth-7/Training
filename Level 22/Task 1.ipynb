{
 "cells": [
  {
   "cell_type": "code",
   "execution_count": null,
   "id": "acaea990",
   "metadata": {},
   "outputs": [],
   "source": [
    "import pandas as pd\n",
    "import numpy as np\n",
    "import matplotlib.pyplot as plt\n",
    "from sklearn.model_selection import train_test_split\n",
    "from sklearn.preprocessing import StandardScaler"
   ]
  },
  {
   "cell_type": "code",
   "execution_count": 4,
   "id": "dbbb99b6",
   "metadata": {},
   "outputs": [],
   "source": [
    "df = pd.read_csv(\"housing.csv\")"
   ]
  },
  {
   "cell_type": "code",
   "execution_count": 5,
   "id": "795a5c06",
   "metadata": {},
   "outputs": [],
   "source": [
    "X = df.drop('MEDV', axis=1).values\n",
    "y = df['MEDV'].values\n",
    "\n",
    "scaler = StandardScaler()\n",
    "X = scaler.fit_transform(X)\n",
    "\n",
    "X_train, X_test, y_train, y_test = train_test_split(X, y, test_size=0.2, random_state=42)\n",
    "\n",
    "n_features = X_train.shape[1]\n",
    "weights = np.random.rand(n_features)\n",
    "bias = 0\n",
    "learning_rate = 0.01\n",
    "epochs = 100"
   ]
  },
  {
   "cell_type": "code",
   "execution_count": 6,
   "id": "862932f9",
   "metadata": {},
   "outputs": [],
   "source": [
    "losses = []\n",
    "for epoch in range(epochs):\n",
    "    y_pred = np.dot(X_train, weights) + bias\n",
    "    loss = np.mean((y_pred - y_train)**2)  # MSE Loss\n",
    "    losses.append(loss)\n",
    "    \n",
    "    dw = (2/len(X_train)) * np.dot(X_train.T, (y_pred - y_train))\n",
    "    db = (2/len(X_train)) * np.sum(y_pred - y_train)\n",
    "    \n",
    "    weights = weights - learning_rate * dw\n",
    "    bias = bias - learning_rate * db"
   ]
  },
  {
   "cell_type": "code",
   "execution_count": 7,
   "id": "0a20749f",
   "metadata": {},
   "outputs": [
    {
     "data": {
      "image/png": "[encoded data removed]",
      "text/plain": [
       "<Figure size 640x480 with 1 Axes>"
      ]
     },
     "metadata": {},
     "output_type": "display_data"
    }
   ],
   "source": [
    "plt.plot(losses)\n",
    "plt.xlabel('Epoch')\n",
    "plt.ylabel('Loss')\n",
    "plt.title('Loss vs Epoch')\n",
    "plt.show()"
   ]
  },
  {
   "cell_type": "code",
   "execution_count": 8,
   "id": "f62d3d7d",
   "metadata": {},
   "outputs": [
    {
     "data": {
      "text/html": [
       "<div>\n",
       "<style scoped>\n",
       "    .dataframe tbody tr th:only-of-type {\n",
       "        vertical-align: middle;\n",
       "    }\n",
       "\n",
       "    .dataframe tbody tr th {\n",
       "        vertical-align: top;\n",
       "    }\n",
       "\n",
       "    .dataframe thead th {\n",
       "        text-align: right;\n",
       "    }\n",
       "</style>\n",
       "<table border=\"1\" class=\"dataframe\">\n",
       "  <thead>\n",
       "    <tr style=\"text-align: right;\">\n",
       "      <th></th>\n",
       "      <th>Actual</th>\n",
       "      <th>Predicted</th>\n",
       "    </tr>\n",
       "  </thead>\n",
       "  <tbody>\n",
       "    <tr>\n",
       "      <th>0</th>\n",
       "      <td>401100.0</td>\n",
       "      <td>281711.126334</td>\n",
       "    </tr>\n",
       "    <tr>\n",
       "      <th>1</th>\n",
       "      <td>501900.0</td>\n",
       "      <td>443206.009014</td>\n",
       "    </tr>\n",
       "    <tr>\n",
       "      <th>2</th>\n",
       "      <td>319200.0</td>\n",
       "      <td>354717.037552</td>\n",
       "    </tr>\n",
       "    <tr>\n",
       "      <th>3</th>\n",
       "      <td>147000.0</td>\n",
       "      <td>179766.952502</td>\n",
       "    </tr>\n",
       "    <tr>\n",
       "      <th>4</th>\n",
       "      <td>247800.0</td>\n",
       "      <td>276717.714620</td>\n",
       "    </tr>\n",
       "    <tr>\n",
       "      <th>...</th>\n",
       "      <td>...</td>\n",
       "      <td>...</td>\n",
       "    </tr>\n",
       "    <tr>\n",
       "      <th>93</th>\n",
       "      <td>405300.0</td>\n",
       "      <td>424936.212398</td>\n",
       "    </tr>\n",
       "    <tr>\n",
       "      <th>94</th>\n",
       "      <td>289800.0</td>\n",
       "      <td>335186.172662</td>\n",
       "    </tr>\n",
       "    <tr>\n",
       "      <th>95</th>\n",
       "      <td>518700.0</td>\n",
       "      <td>505108.882079</td>\n",
       "    </tr>\n",
       "    <tr>\n",
       "      <th>96</th>\n",
       "      <td>422100.0</td>\n",
       "      <td>403129.142320</td>\n",
       "    </tr>\n",
       "    <tr>\n",
       "      <th>97</th>\n",
       "      <td>151200.0</td>\n",
       "      <td>226164.975283</td>\n",
       "    </tr>\n",
       "  </tbody>\n",
       "</table>\n",
       "<p>98 rows × 2 columns</p>\n",
       "</div>"
      ],
      "text/plain": [
       "      Actual      Predicted\n",
       "0   401100.0  281711.126334\n",
       "1   501900.0  443206.009014\n",
       "2   319200.0  354717.037552\n",
       "3   147000.0  179766.952502\n",
       "4   247800.0  276717.714620\n",
       "..       ...            ...\n",
       "93  405300.0  424936.212398\n",
       "94  289800.0  335186.172662\n",
       "95  518700.0  505108.882079\n",
       "96  422100.0  403129.142320\n",
       "97  151200.0  226164.975283\n",
       "\n",
       "[98 rows x 2 columns]"
      ]
     },
     "execution_count": 8,
     "metadata": {},
     "output_type": "execute_result"
    }
   ],
   "source": [
    "y_pred_test = np.dot(X_test, weights) + bias\n",
    "comparison_df = pd.DataFrame({'Actual': y_test, 'Predicted': y_pred_test})\n",
    "comparison_df"
   ]
  }
 ],
 "metadata": {
  "kernelspec": {
   "display_name": "Python 3",
   "language": "python",
   "name": "python3"
  },
  "language_info": {
   "codemirror_mode": {
    "name": "ipython",
    "version": 3
   },
   "file_extension": ".py",
   "mimetype": "text/x-python",
   "name": "python",
   "nbconvert_exporter": "python",
   "pygments_lexer": "ipython3",
   "version": "3.12.4"
  }
 },
 "nbformat": 4,
 "nbformat_minor": 5
}
