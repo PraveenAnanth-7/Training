{
 "cells": [
  {
   "cell_type": "code",
   "execution_count": 1,
   "id": "f621fb83",
   "metadata": {},
   "outputs": [
    {
     "name": "stdout",
     "output_type": "stream",
     "text": [
      "\n",
      "Task 6: Measures of Dispersion\n",
      "Variance: 8.0\n",
      "Standard Deviation: 2.828\n"
     ]
    }
   ],
   "source": [
    "import math\n",
    "\n",
    "data_dispersion = [2, 4, 6, 8, 10]\n",
    "mean_dispersion = sum(data_dispersion) / len(data_dispersion)\n",
    "variance = sum((x - mean_dispersion) ** 2 for x in data_dispersion) / len(data_dispersion)\n",
    "std_deviation = math.sqrt(variance)\n",
    "print(\"\\nTask 6: Measures of Dispersion\")\n",
    "print(f\"Variance: {variance}\")\n",
    "print(f\"Standard Deviation: {std_deviation:.3f}\")"
   ]
  }
 ],
 "metadata": {
  "kernelspec": {
   "display_name": "Python 3",
   "language": "python",
   "name": "python3"
  },
  "language_info": {
   "codemirror_mode": {
    "name": "ipython",
    "version": 3
   },
   "file_extension": ".py",
   "mimetype": "text/x-python",
   "name": "python",
   "nbconvert_exporter": "python",
   "pygments_lexer": "ipython3",
   "version": "3.12.4"
  }
 },
 "nbformat": 4,
 "nbformat_minor": 5
}
