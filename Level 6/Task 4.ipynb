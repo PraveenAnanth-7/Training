{
 "cells": [
  {
   "cell_type": "code",
   "execution_count": 1,
   "id": "bc26e933",
   "metadata": {},
   "outputs": [
    {
     "name": "stdout",
     "output_type": "stream",
     "text": [
      "Number of pets: Quantitative (Discrete)\n",
      "Blood type: Qualitative (Categorical)\n",
      "Weight in kg: Quantitative (Continuous)\n",
      "Satisfaction level: Qualitative (Ordinal)\n"
     ]
    }
   ],
   "source": [
    "#task4\n",
    "variables = {\n",
    "    \"Number of pets\": \"Quantitative (Discrete)\",\n",
    "    \"Blood type\": \"Qualitative (Categorical)\",\n",
    "    \"Weight in kg\": \"Quantitative (Continuous)\",\n",
    "    \"Satisfaction level\": \"Qualitative (Ordinal)\"\n",
    "}\n",
    "\n",
    "for var, var_type in variables.items():\n",
    "    print(f\"{var}: {var_type}\")"
   ]
  }
 ],
 "metadata": {
  "kernelspec": {
   "display_name": "Python 3",
   "language": "python",
   "name": "python3"
  },
  "language_info": {
   "codemirror_mode": {
    "name": "ipython",
    "version": 3
   },
   "file_extension": ".py",
   "mimetype": "text/x-python",
   "name": "python",
   "nbconvert_exporter": "python",
   "pygments_lexer": "ipython3",
   "version": "3.12.4"
  }
 },
 "nbformat": 4,
 "nbformat_minor": 5
}
