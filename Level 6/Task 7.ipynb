{
 "cells": [
  {
   "cell_type": "code",
   "execution_count": 2,
   "id": "4b4954f6",
   "metadata": {},
   "outputs": [
    {
     "name": "stdout",
     "output_type": "stream",
     "text": [
      "\n",
      "Task 7: Z-Scores and Interpretation\n",
      "Z-score for x = 60: 1.0\n",
      "Z-score for x = 40: -1.0\n"
     ]
    }
   ],
   "source": [
    "\n",
    "mean_z = 50\n",
    "std_dev_z = 10\n",
    "x1 = 60\n",
    "x2 = 40\n",
    "z1 = (x1 - mean_z) / std_dev_z\n",
    "z2 = (x2 - mean_z) / std_dev_z\n",
    "\n",
    "print(\"\\nTask 7: Z-Scores and Interpretation\")\n",
    "print(f\"Z-score for x = 60: {z1}\")\n",
    "print(f\"Z-score for x = 40: {z2}\")"
   ]
  }
 ],
 "metadata": {
  "kernelspec": {
   "display_name": "Python 3",
   "language": "python",
   "name": "python3"
  },
  "language_info": {
   "codemirror_mode": {
    "name": "ipython",
    "version": 3
   },
   "file_extension": ".py",
   "mimetype": "text/x-python",
   "name": "python",
   "nbconvert_exporter": "python",
   "pygments_lexer": "ipython3",
   "version": "3.12.4"
  }
 },
 "nbformat": 4,
 "nbformat_minor": 5
}
