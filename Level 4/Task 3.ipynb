{
 "cells": [
  {
   "cell_type": "code",
   "execution_count": 1,
   "metadata": {},
   "outputs": [],
   "source": [
    "import pandas as pd"
   ]
  },
  {
   "cell_type": "code",
   "execution_count": 2,
   "metadata": {},
   "outputs": [
    {
     "name": "stdout",
     "output_type": "stream",
     "text": [
      "    Price  SqFt  price_per_sqft\n",
      "0  450000  1500      300.000000\n",
      "1  650000  2000      325.000000\n",
      "2  300000  1200      250.000000\n",
      "3  800000  2500      320.000000\n",
      "4  550000  1800      305.555556\n"
     ]
    }
   ],
   "source": [
    "data = {\n",
    "    \"Price\": [450000, 650000, 300000, 800000, 550000],\n",
    "    \"SqFt\": [1500, 2000, 1200, 2500, 1800]\n",
    "}\n",
    "df = pd.DataFrame(data)\n",
    "df[\"price_per_sqft\"] = df[\"Price\"] / df[\"SqFt\"]\n",
    "print(df.head())"
   ]
  }
 ],
 "metadata": {
  "kernelspec": {
   "display_name": "Python 3",
   "language": "python",
   "name": "python3"
  },
  "language_info": {
   "codemirror_mode": {
    "name": "ipython",
    "version": 3
   },
   "file_extension": ".py",
   "mimetype": "text/x-python",
   "name": "python",
   "nbconvert_exporter": "python",
   "pygments_lexer": "ipython3",
   "version": "3.12.4"
  }
 },
 "nbformat": 4,
 "nbformat_minor": 2
}
