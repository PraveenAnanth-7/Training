{
  "cells": [
    {
      "cell_type": "code",
      "execution_count": 4,
      "metadata": {
        "colab": {
          "base_uri": "https://localhost:8080/"
        },
        "id": "Ax02nW7rlexB",
        "outputId": "65ad2c0c-77fe-4945-d92b-2911d81e259b"
      },
      "outputs": [
        {
          "name": "stdout",
          "output_type": "stream",
          "text": [
            "Collecting mlflow\n",
            "  Using cached mlflow-2.21.3-py3-none-any.whl.metadata (30 kB)\n",
            "Requirement already satisfied: mlflow-skinny==2.21.3 in c:\\users\\praveen ananth\\appdata\\local\\programs\\python\\python312\\lib\\site-packages (from mlflow) (2.21.3)\n",
            "Requirement already satisfied: Flask<4 in c:\\users\\praveen ananth\\appdata\\local\\programs\\python\\python312\\lib\\site-packages (from mlflow) (3.1.0)\n",
            "Requirement already satisfied: Jinja2<4,>=3.0 in c:\\users\\praveen ananth\\appdata\\local\\programs\\python\\python312\\lib\\site-packages (from mlflow) (3.1.4)\n",
            "Requirement already satisfied: alembic!=1.10.0,<2 in c:\\users\\praveen ananth\\appdata\\local\\programs\\python\\python312\\lib\\site-packages (from mlflow) (1.15.2)\n",
            "Requirement already satisfied: docker<8,>=4.0.0 in c:\\users\\praveen ananth\\appdata\\local\\programs\\python\\python312\\lib\\site-packages (from mlflow) (7.1.0)\n",
            "Requirement already satisfied: graphene<4 in c:\\users\\praveen ananth\\appdata\\local\\programs\\python\\python312\\lib\\site-packages (from mlflow) (3.4.3)\n",
            "Requirement already satisfied: markdown<4,>=3.3 in c:\\users\\praveen ananth\\appdata\\local\\programs\\python\\python312\\lib\\site-packages (from mlflow) (3.7)\n",
            "Requirement already satisfied: matplotlib<4 in c:\\users\\praveen ananth\\appdata\\local\\programs\\python\\python312\\lib\\site-packages (from mlflow) (3.10.0)\n",
            "Requirement already satisfied: numpy<3 in c:\\users\\praveen ananth\\appdata\\local\\programs\\python\\python312\\lib\\site-packages (from mlflow) (2.1.0)\n",
            "Requirement already satisfied: pandas<3 in c:\\users\\praveen ananth\\appdata\\local\\programs\\python\\python312\\lib\\site-packages (from mlflow) (2.2.2)\n",
            "Requirement already satisfied: pyarrow<20,>=4.0.0 in c:\\users\\praveen ananth\\appdata\\local\\programs\\python\\python312\\lib\\site-packages (from mlflow) (19.0.1)\n",
            "Requirement already satisfied: scikit-learn<2 in c:\\users\\praveen ananth\\appdata\\local\\programs\\python\\python312\\lib\\site-packages (from mlflow) (1.6.1)\n",
            "Requirement already satisfied: scipy<2 in c:\\users\\praveen ananth\\appdata\\local\\programs\\python\\python312\\lib\\site-packages (from mlflow) (1.15.2)\n",
            "Requirement already satisfied: sqlalchemy<3,>=1.4.0 in c:\\users\\praveen ananth\\appdata\\local\\programs\\python\\python312\\lib\\site-packages (from mlflow) (2.0.40)\n",
            "Requirement already satisfied: waitress<4 in c:\\users\\praveen ananth\\appdata\\local\\programs\\python\\python312\\lib\\site-packages (from mlflow) (3.0.2)\n",
            "Requirement already satisfied: cachetools<6,>=5.0.0 in c:\\users\\praveen ananth\\appdata\\local\\programs\\python\\python312\\lib\\site-packages (from mlflow-skinny==2.21.3->mlflow) (5.5.2)\n",
            "Requirement already satisfied: click<9,>=7.0 in c:\\users\\praveen ananth\\appdata\\local\\programs\\python\\python312\\lib\\site-packages (from mlflow-skinny==2.21.3->mlflow) (8.1.8)\n",
            "Requirement already satisfied: cloudpickle<4 in c:\\users\\praveen ananth\\appdata\\local\\programs\\python\\python312\\lib\\site-packages (from mlflow-skinny==2.21.3->mlflow) (3.1.1)\n",
            "Requirement already satisfied: databricks-sdk<1,>=0.20.0 in c:\\users\\praveen ananth\\appdata\\local\\programs\\python\\python312\\lib\\site-packages (from mlflow-skinny==2.21.3->mlflow) (0.50.0)\n",
            "Requirement already satisfied: fastapi<1 in c:\\users\\praveen ananth\\appdata\\local\\programs\\python\\python312\\lib\\site-packages (from mlflow-skinny==2.21.3->mlflow) (0.115.12)\n",
            "Requirement already satisfied: gitpython<4,>=3.1.9 in c:\\users\\praveen ananth\\appdata\\local\\programs\\python\\python312\\lib\\site-packages (from mlflow-skinny==2.21.3->mlflow) (3.1.44)\n",
            "Requirement already satisfied: importlib_metadata!=4.7.0,<9,>=3.7.0 in c:\\users\\praveen ananth\\appdata\\local\\programs\\python\\python312\\lib\\site-packages (from mlflow-skinny==2.21.3->mlflow) (8.6.1)\n",
            "Requirement already satisfied: opentelemetry-api<3,>=1.9.0 in c:\\users\\praveen ananth\\appdata\\local\\programs\\python\\python312\\lib\\site-packages (from mlflow-skinny==2.21.3->mlflow) (1.32.1)\n",
            "Requirement already satisfied: opentelemetry-sdk<3,>=1.9.0 in c:\\users\\praveen ananth\\appdata\\local\\programs\\python\\python312\\lib\\site-packages (from mlflow-skinny==2.21.3->mlflow) (1.32.1)\n",
            "Requirement already satisfied: packaging<25 in c:\\users\\praveen ananth\\appdata\\local\\programs\\python\\python312\\lib\\site-packages (from mlflow-skinny==2.21.3->mlflow) (24.2)\n",
            "Requirement already satisfied: protobuf<6,>=3.12.0 in c:\\users\\praveen ananth\\appdata\\local\\programs\\python\\python312\\lib\\site-packages (from mlflow-skinny==2.21.3->mlflow) (5.29.4)\n",
            "Requirement already satisfied: pydantic<3,>=1.10.8 in c:\\users\\praveen ananth\\appdata\\local\\programs\\python\\python312\\lib\\site-packages (from mlflow-skinny==2.21.3->mlflow) (2.10.6)\n",
            "Requirement already satisfied: pyyaml<7,>=5.1 in c:\\users\\praveen ananth\\appdata\\local\\programs\\python\\python312\\lib\\site-packages (from mlflow-skinny==2.21.3->mlflow) (6.0.2)\n",
            "Requirement already satisfied: requests<3,>=2.17.3 in c:\\users\\praveen ananth\\appdata\\local\\programs\\python\\python312\\lib\\site-packages (from mlflow-skinny==2.21.3->mlflow) (2.32.3)\n",
            "Requirement already satisfied: sqlparse<1,>=0.4.0 in c:\\users\\praveen ananth\\appdata\\local\\programs\\python\\python312\\lib\\site-packages (from mlflow-skinny==2.21.3->mlflow) (0.5.3)\n",
            "Requirement already satisfied: typing-extensions<5,>=4.0.0 in c:\\users\\praveen ananth\\appdata\\local\\programs\\python\\python312\\lib\\site-packages (from mlflow-skinny==2.21.3->mlflow) (4.12.2)\n",
            "Requirement already satisfied: uvicorn<1 in c:\\users\\praveen ananth\\appdata\\local\\programs\\python\\python312\\lib\\site-packages (from mlflow-skinny==2.21.3->mlflow) (0.34.1)\n",
            "Requirement already satisfied: Mako in c:\\users\\praveen ananth\\appdata\\local\\programs\\python\\python312\\lib\\site-packages (from alembic!=1.10.0,<2->mlflow) (1.3.10)\n",
            "Requirement already satisfied: pywin32>=304 in c:\\users\\praveen ananth\\appdata\\local\\programs\\python\\python312\\lib\\site-packages (from docker<8,>=4.0.0->mlflow) (308)\n",
            "Requirement already satisfied: urllib3>=1.26.0 in c:\\users\\praveen ananth\\appdata\\local\\programs\\python\\python312\\lib\\site-packages (from docker<8,>=4.0.0->mlflow) (2.2.2)\n",
            "Requirement already satisfied: Werkzeug>=3.1 in c:\\users\\praveen ananth\\appdata\\local\\programs\\python\\python312\\lib\\site-packages (from Flask<4->mlflow) (3.1.3)\n",
            "Requirement already satisfied: itsdangerous>=2.2 in c:\\users\\praveen ananth\\appdata\\local\\programs\\python\\python312\\lib\\site-packages (from Flask<4->mlflow) (2.2.0)\n",
            "Requirement already satisfied: blinker>=1.9 in c:\\users\\praveen ananth\\appdata\\local\\programs\\python\\python312\\lib\\site-packages (from Flask<4->mlflow) (1.9.0)\n",
            "Requirement already satisfied: graphql-core<3.3,>=3.1 in c:\\users\\praveen ananth\\appdata\\local\\programs\\python\\python312\\lib\\site-packages (from graphene<4->mlflow) (3.2.6)\n",
            "Requirement already satisfied: graphql-relay<3.3,>=3.1 in c:\\users\\praveen ananth\\appdata\\local\\programs\\python\\python312\\lib\\site-packages (from graphene<4->mlflow) (3.2.0)\n",
            "Requirement already satisfied: python-dateutil<3,>=2.7.0 in c:\\users\\praveen ananth\\appdata\\local\\programs\\python\\python312\\lib\\site-packages (from graphene<4->mlflow) (2.9.0.post0)\n",
            "Requirement already satisfied: MarkupSafe>=2.0 in c:\\users\\praveen ananth\\appdata\\local\\programs\\python\\python312\\lib\\site-packages (from Jinja2<4,>=3.0->mlflow) (3.0.2)\n",
            "Requirement already satisfied: contourpy>=1.0.1 in c:\\users\\praveen ananth\\appdata\\local\\programs\\python\\python312\\lib\\site-packages (from matplotlib<4->mlflow) (1.3.1)\n",
            "Requirement already satisfied: cycler>=0.10 in c:\\users\\praveen ananth\\appdata\\local\\programs\\python\\python312\\lib\\site-packages (from matplotlib<4->mlflow) (0.12.1)\n",
            "Requirement already satisfied: fonttools>=4.22.0 in c:\\users\\praveen ananth\\appdata\\local\\programs\\python\\python312\\lib\\site-packages (from matplotlib<4->mlflow) (4.55.6)\n",
            "Requirement already satisfied: kiwisolver>=1.3.1 in c:\\users\\praveen ananth\\appdata\\local\\programs\\python\\python312\\lib\\site-packages (from matplotlib<4->mlflow) (1.4.8)\n",
            "Requirement already satisfied: pillow>=8 in c:\\users\\praveen ananth\\appdata\\local\\programs\\python\\python312\\lib\\site-packages (from matplotlib<4->mlflow) (11.1.0)\n",
            "Requirement already satisfied: pyparsing>=2.3.1 in c:\\users\\praveen ananth\\appdata\\local\\programs\\python\\python312\\lib\\site-packages (from matplotlib<4->mlflow) (3.2.1)\n",
            "Requirement already satisfied: pytz>=2020.1 in c:\\users\\praveen ananth\\appdata\\local\\programs\\python\\python312\\lib\\site-packages (from pandas<3->mlflow) (2024.1)\n",
            "Requirement already satisfied: tzdata>=2022.7 in c:\\users\\praveen ananth\\appdata\\local\\programs\\python\\python312\\lib\\site-packages (from pandas<3->mlflow) (2024.1)\n",
            "Requirement already satisfied: joblib>=1.2.0 in c:\\users\\praveen ananth\\appdata\\local\\programs\\python\\python312\\lib\\site-packages (from scikit-learn<2->mlflow) (1.4.2)\n",
            "Requirement already satisfied: threadpoolctl>=3.1.0 in c:\\users\\praveen ananth\\appdata\\local\\programs\\python\\python312\\lib\\site-packages (from scikit-learn<2->mlflow) (3.6.0)\n",
            "Requirement already satisfied: greenlet>=1 in c:\\users\\praveen ananth\\appdata\\local\\programs\\python\\python312\\lib\\site-packages (from sqlalchemy<3,>=1.4.0->mlflow) (3.2.0)\n",
            "Requirement already satisfied: colorama in c:\\users\\praveen ananth\\appdata\\local\\programs\\python\\python312\\lib\\site-packages (from click<9,>=7.0->mlflow-skinny==2.21.3->mlflow) (0.4.6)\n",
            "Requirement already satisfied: google-auth~=2.0 in c:\\users\\praveen ananth\\appdata\\local\\programs\\python\\python312\\lib\\site-packages (from databricks-sdk<1,>=0.20.0->mlflow-skinny==2.21.3->mlflow) (2.39.0)\n",
            "Requirement already satisfied: starlette<0.47.0,>=0.40.0 in c:\\users\\praveen ananth\\appdata\\local\\programs\\python\\python312\\lib\\site-packages (from fastapi<1->mlflow-skinny==2.21.3->mlflow) (0.46.2)\n",
            "Requirement already satisfied: gitdb<5,>=4.0.1 in c:\\users\\praveen ananth\\appdata\\local\\programs\\python\\python312\\lib\\site-packages (from gitpython<4,>=3.1.9->mlflow-skinny==2.21.3->mlflow) (4.0.12)\n",
            "Requirement already satisfied: zipp>=3.20 in c:\\users\\praveen ananth\\appdata\\local\\programs\\python\\python312\\lib\\site-packages (from importlib_metadata!=4.7.0,<9,>=3.7.0->mlflow-skinny==2.21.3->mlflow) (3.21.0)\n",
            "Requirement already satisfied: deprecated>=1.2.6 in c:\\users\\praveen ananth\\appdata\\local\\programs\\python\\python312\\lib\\site-packages (from opentelemetry-api<3,>=1.9.0->mlflow-skinny==2.21.3->mlflow) (1.2.18)\n",
            "Requirement already satisfied: opentelemetry-semantic-conventions==0.53b1 in c:\\users\\praveen ananth\\appdata\\local\\programs\\python\\python312\\lib\\site-packages (from opentelemetry-sdk<3,>=1.9.0->mlflow-skinny==2.21.3->mlflow) (0.53b1)\n",
            "Requirement already satisfied: annotated-types>=0.6.0 in c:\\users\\praveen ananth\\appdata\\local\\programs\\python\\python312\\lib\\site-packages (from pydantic<3,>=1.10.8->mlflow-skinny==2.21.3->mlflow) (0.7.0)\n",
            "Requirement already satisfied: pydantic-core==2.27.2 in c:\\users\\praveen ananth\\appdata\\local\\programs\\python\\python312\\lib\\site-packages (from pydantic<3,>=1.10.8->mlflow-skinny==2.21.3->mlflow) (2.27.2)\n",
            "Requirement already satisfied: six>=1.5 in c:\\users\\praveen ananth\\appdata\\local\\programs\\python\\python312\\lib\\site-packages (from python-dateutil<3,>=2.7.0->graphene<4->mlflow) (1.16.0)\n",
            "Requirement already satisfied: charset-normalizer<4,>=2 in c:\\users\\praveen ananth\\appdata\\local\\programs\\python\\python312\\lib\\site-packages (from requests<3,>=2.17.3->mlflow-skinny==2.21.3->mlflow) (3.3.2)\n",
            "Requirement already satisfied: idna<4,>=2.5 in c:\\users\\praveen ananth\\appdata\\local\\programs\\python\\python312\\lib\\site-packages (from requests<3,>=2.17.3->mlflow-skinny==2.21.3->mlflow) (3.7)\n",
            "Requirement already satisfied: certifi>=2017.4.17 in c:\\users\\praveen ananth\\appdata\\local\\programs\\python\\python312\\lib\\site-packages (from requests<3,>=2.17.3->mlflow-skinny==2.21.3->mlflow) (2024.7.4)\n",
            "Requirement already satisfied: h11>=0.8 in c:\\users\\praveen ananth\\appdata\\local\\programs\\python\\python312\\lib\\site-packages (from uvicorn<1->mlflow-skinny==2.21.3->mlflow) (0.14.0)\n",
            "Requirement already satisfied: wrapt<2,>=1.10 in c:\\users\\praveen ananth\\appdata\\local\\programs\\python\\python312\\lib\\site-packages (from deprecated>=1.2.6->opentelemetry-api<3,>=1.9.0->mlflow-skinny==2.21.3->mlflow) (1.17.2)\n",
            "Requirement already satisfied: smmap<6,>=3.0.1 in c:\\users\\praveen ananth\\appdata\\local\\programs\\python\\python312\\lib\\site-packages (from gitdb<5,>=4.0.1->gitpython<4,>=3.1.9->mlflow-skinny==2.21.3->mlflow) (5.0.2)\n",
            "Requirement already satisfied: pyasn1-modules>=0.2.1 in c:\\users\\praveen ananth\\appdata\\local\\programs\\python\\python312\\lib\\site-packages (from google-auth~=2.0->databricks-sdk<1,>=0.20.0->mlflow-skinny==2.21.3->mlflow) (0.4.2)\n",
            "Requirement already satisfied: rsa<5,>=3.1.4 in c:\\users\\praveen ananth\\appdata\\local\\programs\\python\\python312\\lib\\site-packages (from google-auth~=2.0->databricks-sdk<1,>=0.20.0->mlflow-skinny==2.21.3->mlflow) (4.9)\n",
            "Requirement already satisfied: anyio<5,>=3.6.2 in c:\\users\\praveen ananth\\appdata\\local\\programs\\python\\python312\\lib\\site-packages (from starlette<0.47.0,>=0.40.0->fastapi<1->mlflow-skinny==2.21.3->mlflow) (4.6.2.post1)\n",
            "Requirement already satisfied: sniffio>=1.1 in c:\\users\\praveen ananth\\appdata\\local\\programs\\python\\python312\\lib\\site-packages (from anyio<5,>=3.6.2->starlette<0.47.0,>=0.40.0->fastapi<1->mlflow-skinny==2.21.3->mlflow) (1.3.1)\n",
            "Requirement already satisfied: pyasn1<0.7.0,>=0.6.1 in c:\\users\\praveen ananth\\appdata\\local\\programs\\python\\python312\\lib\\site-packages (from pyasn1-modules>=0.2.1->google-auth~=2.0->databricks-sdk<1,>=0.20.0->mlflow-skinny==2.21.3->mlflow) (0.6.1)\n",
            "Using cached mlflow-2.21.3-py3-none-any.whl (28.2 MB)\n",
            "Installing collected packages: mlflow\n",
            "Successfully installed mlflow-2.21.3\n",
            "Note: you may need to restart the kernel to use updated packages.\n"
          ]
        }
      ],
      "source": [
        "%pip install mlflow"
      ]
    },
    {
      "cell_type": "code",
      "execution_count": 5,
      "metadata": {},
      "outputs": [],
      "source": [
        "from sklearn.datasets import load_diabetes\n",
        "from sklearn.linear_model import LinearRegression\n",
        "from sklearn.model_selection import train_test_split\n",
        "from sklearn.metrics import mean_squared_error, r2_score\n",
        "from abc import ABC, abstractmethod\n",
        "import mlflow\n",
        "import mlflow.sklearn\n",
        "import pandas as pd"
      ]
    },
    {
      "cell_type": "code",
      "execution_count": 7,
      "metadata": {},
      "outputs": [],
      "source": [
        "class Evaluation(ABC):\n",
        "    @abstractmethod\n",
        "    def calculate_scores(self, y_true, y_pred):\n",
        "        pass\n",
        "\n",
        "class MSE(Evaluation):\n",
        "    def calculate_scores(self, y_true, y_pred):\n",
        "        return mean_squared_error(y_true, y_pred)\n",
        "\n",
        "class R2(Evaluation):\n",
        "    def calculate_scores(self, y_true, y_pred):\n",
        "        return r2_score(y_true, y_pred)\n"
      ]
    },
    {
      "cell_type": "code",
      "execution_count": 8,
      "metadata": {
        "colab": {
          "base_uri": "https://localhost:8080/"
        },
        "id": "Jzv_JHXDpGv2",
        "outputId": "72d242c9-26e5-4637-9819-7d7f8dcfd972"
      },
      "outputs": [],
      "source": [
        "data = load_diabetes()\n",
        "df = pd.DataFrame(data.data, columns=data.feature_names)\n",
        "X_train, X_test, y_train, y_test = train_test_split(df, data.target, test_size=0.2, random_state=42)\n",
        "\n",
        "model = LinearRegression()\n",
        "model.fit(X_train, y_train)\n",
        "\n",
        "y_pred = model.predict(X_test)\n",
        "mse = MSE()\n",
        "r2 = R2()\n",
        "mse_score = mse.calculate_scores(y_test, y_pred)\n",
        "r2_score_value = r2.calculate_scores(y_test, y_pred)\n",
        "\n"
      ]
    },
    {
      "cell_type": "code",
      "execution_count": 9,
      "metadata": {
        "id": "11YYxCEbndCr"
      },
      "outputs": [
        {
          "name": "stderr",
          "output_type": "stream",
          "text": [
            "Downloading artifacts: 100%|██████████| 7/7 [00:00<00:00, 445.16it/s]\n",
            "Downloading artifacts: 100%|██████████| 7/7 [00:00<00:00, 826.44it/s] \n"
          ]
        },
        {
          "name": "stdout",
          "output_type": "stream",
          "text": [
            "MSE Score: 2900.1936284934814\n",
            "R2 Score: 0.4526027629719195\n"
          ]
        }
      ],
      "source": [
        "input_example = pd.DataFrame([X_test.iloc[0]]) \n",
        "mlflow.set_experiment(\"diabetes_evaluation\")\n",
        "mlflow.end_run() \n",
        "with mlflow.start_run():\n",
        "    mlflow.log_metric(\"mse\", mse_score)\n",
        "    mlflow.log_metric(\"r2\", r2_score_value)\n",
        "    mlflow.sklearn.log_model(model, \"model\", input_example=input_example)\n",
        "with mlflow.start_run():\n",
        "    mlflow.log_metric(\"mse\", mse_score)\n",
        "    mlflow.log_metric(\"r2\", r2_score_value)\n",
        "    mlflow.sklearn.log_model(model, \"model\", input_example=input_example)\n",
        "\n",
        "print(\"MSE Score:\", mse_score)\n",
        "print(\"R2 Score:\", r2_score_value)\n"
      ]
    }
  ],
  "metadata": {
    "colab": {
      "provenance": []
    },
    "kernelspec": {
      "display_name": "Python 3",
      "name": "python3"
    },
    "language_info": {
      "codemirror_mode": {
        "name": "ipython",
        "version": 3
      },
      "file_extension": ".py",
      "mimetype": "text/x-python",
      "name": "python",
      "nbconvert_exporter": "python",
      "pygments_lexer": "ipython3",
      "version": "3.12.4"
    }
  },
  "nbformat": 4,
  "nbformat_minor": 0
}
