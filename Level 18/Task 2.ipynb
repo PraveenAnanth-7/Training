{
 "cells": [
  {
   "cell_type": "code",
   "execution_count": 1,
   "id": "288f4364",
   "metadata": {},
   "outputs": [
    {
     "name": "stdout",
     "output_type": "stream",
     "text": [
      "\u001b[1;35mRunning single step pipeline to execute step \u001b[0m\u001b[1;36mload_data_step\u001b[1;35m\u001b[0m\n",
      "\u001b[1;35mInitiating a new run for the pipeline: \u001b[0m\u001b[1;36mload_data_step\u001b[1;35m.\u001b[0m\n",
      "\u001b[1;35mCaching is disabled by default for \u001b[0m\u001b[1;36mload_data_step\u001b[1;35m.\u001b[0m\n",
      "\u001b[1;35mUsing user: \u001b[0m\u001b[1;36mdefault\u001b[1;35m\u001b[0m\n",
      "\u001b[1;35mUsing stack: \u001b[0m\u001b[1;36mdefault\u001b[1;35m\u001b[0m\n",
      "\u001b[1;35m  orchestrator: \u001b[0m\u001b[1;36mdefault\u001b[1;35m\u001b[0m\n",
      "\u001b[1;35m  artifact_store: \u001b[0m\u001b[1;36mdefault\u001b[1;35m\u001b[0m\n",
      "\u001b[1;35mYou can visualize your pipeline runs in the \u001b[0m\u001b[1;36mZenML Dashboard\u001b[1;35m. In order to try it locally, please run \u001b[0m\u001b[1;36mzenml login --local\u001b[1;35m.\u001b[0m\n",
      "\u001b[1;35mStep \u001b[0m\u001b[1;36mload_data_step\u001b[1;35m has started.\u001b[0m\n",
      "[load_data_step] Dataset shape: (1797, 64)\n",
      "[load_data_step] \u001b[33mNo materializer is registered for type \u001b[0m\u001b[1;36m<class 'numpy.ndarray'>\u001b[33m, so the default Pickle materializer was used. Pickle is not production ready and should only be used for prototyping as the artifacts cannot be loaded when running with a different Python version. Please consider implementing a custom materializer for type \u001b[0m\u001b[1;36m<class 'numpy.ndarray'>\u001b[33m according to the instructions at \u001b[0m\u001b[34mhttps://docs.zenml.io/how-to/handle-data-artifacts/handle-custom-data-types\u001b[33m\u001b[0m\n",
      "[load_data_step] \u001b[33mNo materializer is registered for type \u001b[0m\u001b[1;36m<class 'numpy.ndarray'>\u001b[33m, so the default Pickle materializer was used. Pickle is not production ready and should only be used for prototyping as the artifacts cannot be loaded when running with a different Python version. Please consider implementing a custom materializer for type \u001b[0m\u001b[1;36m<class 'numpy.ndarray'>\u001b[33m according to the instructions at \u001b[0m\u001b[34mhttps://docs.zenml.io/how-to/handle-data-artifacts/handle-custom-data-types\u001b[33m\u001b[0m\n",
      "\u001b[1;35mStep \u001b[0m\u001b[1;36mload_data_step\u001b[1;35m has finished in \u001b[0m\u001b[1;36m11.683s\u001b[1;35m.\u001b[0m\n",
      "\u001b[1;35mPipeline run has finished in \u001b[0m\u001b[1;36m11.810s\u001b[1;35m.\u001b[0m\n"
     ]
    }
   ],
   "source": [
    "from zenml import pipeline, step\n",
    "from sklearn.datasets import load_digits\n",
    "\n",
    "@step\n",
    "def load_data_step():\n",
    "    data = load_digits()\n",
    "    X = data.data\n",
    "    y = data.target\n",
    "    print(f\"Dataset shape: {X.shape}\")\n",
    "    return X, y\n",
    "\n",
    "@pipeline\n",
    "def digits_pipeline(load_data):\n",
    "    load_data()\n",
    "\n",
    "if __name__ == \"__main__\":\n",
    "    load_data = load_data_step()  \n"
   ]
  }
 ],
 "metadata": {
  "kernelspec": {
   "display_name": "Python 3",
   "language": "python",
   "name": "python3"
  },
  "language_info": {
   "codemirror_mode": {
    "name": "ipython",
    "version": 3
   },
   "file_extension": ".py",
   "mimetype": "text/x-python",
   "name": "python",
   "nbconvert_exporter": "python",
   "pygments_lexer": "ipython3",
   "version": "3.12.4"
  }
 },
 "nbformat": 4,
 "nbformat_minor": 5
}
