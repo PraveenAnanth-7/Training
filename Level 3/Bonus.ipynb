{
 "cells": [
  {
   "cell_type": "code",
   "execution_count": 1,
   "metadata": {},
   "outputs": [
    {
     "name": "stdout",
     "output_type": "stream",
     "text": [
      "Original: [[8, 2], [3, 4]]\n",
      "Shallow Copy: [[8, 2], [3, 4]]\n",
      "Deep Copy: [[7, 2], [3, 4]]\n"
     ]
    }
   ],
   "source": [
    "import copy\n",
    "\n",
    "nested_list = [[9, 2], [3, 4]]\n",
    "\n",
    "shallow_copy = copy.copy(nested_list)\n",
    "deep_copy = copy.deepcopy(nested_list)\n",
    "\n",
    "shallow_copy[0][0] = 8\n",
    "deep_copy[0][0] = 7\n",
    "\n",
    "print(\"Original:\", nested_list)\n",
    "print(\"Shallow Copy:\", shallow_copy)\n",
    "print(\"Deep Copy:\", deep_copy)"
   ]
  }
 ],
 "metadata": {
  "kernelspec": {
   "display_name": "Python 3",
   "language": "python",
   "name": "python3"
  },
  "language_info": {
   "codemirror_mode": {
    "name": "ipython",
    "version": 3
   },
   "file_extension": ".py",
   "mimetype": "text/x-python",
   "name": "python",
   "nbconvert_exporter": "python",
   "pygments_lexer": "ipython3",
   "version": "3.12.4"
  }
 },
 "nbformat": 4,
 "nbformat_minor": 2
}
