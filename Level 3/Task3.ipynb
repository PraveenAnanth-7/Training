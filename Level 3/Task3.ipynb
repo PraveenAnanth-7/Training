{
 "cells": [
  {
   "cell_type": "code",
   "execution_count": 1,
   "metadata": {},
   "outputs": [
    {
     "name": "stdout",
     "output_type": "stream",
     "text": [
      "WOOF\n"
     ]
    }
   ],
   "source": [
    "class animal:\n",
    "  def make_sound(self):\n",
    "    return \"buuuuuuuuuu\"\n",
    "class dog(animal):\n",
    "  def make_sound(self):\n",
    "    return \"WOOF\"\n",
    "\n",
    "dog = dog()\n",
    "sound = dog.make_sound()\n",
    "print(sound)"
   ]
  }
 ],
 "metadata": {
  "kernelspec": {
   "display_name": "Python 3",
   "language": "python",
   "name": "python3"
  },
  "language_info": {
   "codemirror_mode": {
    "name": "ipython",
    "version": 3
   },
   "file_extension": ".py",
   "mimetype": "text/x-python",
   "name": "python",
   "nbconvert_exporter": "python",
   "pygments_lexer": "ipython3",
   "version": "3.12.4"
  }
 },
 "nbformat": 4,
 "nbformat_minor": 2
}
