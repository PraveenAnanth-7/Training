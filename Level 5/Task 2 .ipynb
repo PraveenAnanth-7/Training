{
 "cells": [
  {
   "cell_type": "code",
   "execution_count": 3,
   "metadata": {},
   "outputs": [],
   "source": [
    "students = []\n",
    "for i in range(5):\n",
    "    name = input(f\"Enter student {i+1} name: \")\n",
    "    grade = float(input(f\"Enter {name}'s grade (0-100): \"))\n",
    "    students.append((name, grade))\n",
    "def calculate_average(students_list):\n",
    "    total = sum(grade for _, grade in students_list)\n",
    "    return total / len(students_list) if students_list else 0\n",
    "def count_passing_students(students_list):\n",
    "    return sum(1 for _, grade in students_list if grade > 60)\n",
    "\n",
    "average_grade = calculate_average(students)\n",
    "passing_count = count_passing_students(students)"
   ]
  },
  {
   "cell_type": "code",
   "execution_count": 4,
   "metadata": {},
   "outputs": [
    {
     "name": "stdout",
     "output_type": "stream",
     "text": [
      "\n",
      "=== Student Grade Summary ===\n",
      "Average Grade: 93.40\n",
      "Number of Passing Students: 5\n"
     ]
    }
   ],
   "source": [
    "print(\"\\n=== Student Grade Summary ===\")\n",
    "print(f\"Average Grade: {average_grade:.2f}\")\n",
    "print(f\"Number of Passing Students: {passing_count}\")"
   ]
  }
 ],
 "metadata": {
  "kernelspec": {
   "display_name": "Python 3",
   "language": "python",
   "name": "python3"
  },
  "language_info": {
   "codemirror_mode": {
    "name": "ipython",
    "version": 3
   },
   "file_extension": ".py",
   "mimetype": "text/x-python",
   "name": "python",
   "nbconvert_exporter": "python",
   "pygments_lexer": "ipython3",
   "version": "3.12.4"
  }
 },
 "nbformat": 4,
 "nbformat_minor": 2
}
