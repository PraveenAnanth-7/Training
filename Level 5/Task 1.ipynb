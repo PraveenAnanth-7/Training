{
 "cells": [
  {
   "cell_type": "code",
   "execution_count": 3,
   "metadata": {},
   "outputs": [
    {
     "name": "stdout",
     "output_type": "stream",
     "text": [
      "=== Personal Budget Summary ===\n",
      "Total Income:   $9500\n",
      "Total Expenses: $7200\n",
      "Remaining Balance: $2300\n",
      "\n",
      "Income Breakdown:\n",
      "- Salary: $6000\n",
      "- Freelance: $1500\n",
      "- Investments: $800\n",
      "- Bonus: $1200\n",
      "\n",
      "Expense Breakdown:\n",
      "- Rent: $2500\n",
      "- Food: $700\n",
      "- Transport: $400\n",
      "- Entertainment: $500\n",
      "- Utilities: $300\n",
      "- Internet: $100\n",
      "- Insurance: $600\n",
      "- Shopping: $800\n",
      "- Savings: $1000\n",
      "- Miscellaneous: $300\n"
     ]
    }
   ],
   "source": [
    "income = {\n",
    "    \"Salary\": 6000,\n",
    "    \"Freelance\": 1500,\n",
    "    \"Investments\": 800,\n",
    "    \"Bonus\": 1200\n",
    "}\n",
    "expenses = {\n",
    "    \"Rent\": 2500,\n",
    "    \"Food\": 700,\n",
    "    \"Transport\": 400,\n",
    "    \"Entertainment\": 500,\n",
    "    \"Utilities\": 300,\n",
    "    \"Internet\": 100,\n",
    "    \"Insurance\": 600,\n",
    "    \"Shopping\": 800,\n",
    "    \"Savings\": 1000,\n",
    "    \"Miscellaneous\": 300\n",
    "}\n",
    "\n",
    "def calculate_total_income(income_dict):\n",
    "    return sum(income_dict.values())\n",
    "def calculate_total_expenses(expenses_dict):\n",
    "    return sum(expenses_dict.values())\n",
    "\n",
    "total_income = calculate_total_income(income)\n",
    "total_expenses = calculate_total_expenses(expenses)\n",
    "balance = total_income - total_expenses\n",
    "\n",
    "print(\"=== Personal Budget Summary ===\")\n",
    "print(f\"Total Income:   ${total_income}\")\n",
    "print(f\"Total Expenses: ${total_expenses}\")\n",
    "print(f\"Remaining Balance: ${balance}\")\n",
    "\n",
    "print(\"\\nIncome Breakdown:\")\n",
    "for source, amount in income.items():\n",
    "    print(f\"- {source}: ${amount}\")\n",
    "\n",
    "print(\"\\nExpense Breakdown:\")\n",
    "for category, amount in expenses.items():\n",
    "    print(f\"- {category}: ${amount}\")\n"
   ]
  }
 ],
 "metadata": {
  "kernelspec": {
   "display_name": "Python 3",
   "language": "python",
   "name": "python3"
  },
  "language_info": {
   "codemirror_mode": {
    "name": "ipython",
    "version": 3
   },
   "file_extension": ".py",
   "mimetype": "text/x-python",
   "name": "python",
   "nbconvert_exporter": "python",
   "pygments_lexer": "ipython3",
   "version": "3.12.4"
  }
 },
 "nbformat": 4,
 "nbformat_minor": 2
}
