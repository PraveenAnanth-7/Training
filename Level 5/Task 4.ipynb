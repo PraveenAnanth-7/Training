{
 "cells": [
  {
   "cell_type": "code",
   "execution_count": 1,
   "metadata": {},
   "outputs": [],
   "source": [
    "import hashlib\n",
    "message = input(\"Enter a short text message: \")\n",
    "with open(\"message.txt\", \"w\") as file:\n",
    "    file.write(message)\n",
    "with open(\"message.txt\", \"r\") as file:\n",
    "    content = file.read()"
   ]
  },
  {
   "cell_type": "code",
   "execution_count": 2,
   "metadata": {},
   "outputs": [
    {
     "name": "stdout",
     "output_type": "stream",
     "text": [
      "SHA256 Hash: 165a4578a88e9f3be72a4602324c0d7dea0912c64c655f46f7897d02b221d364\n",
      "Encryption complete! Check 'encrypted.txt' for the hash.\n"
     ]
    }
   ],
   "source": [
    "hash_object = hashlib.sha256(content.encode())\n",
    "hex_hash = hash_object.hexdigest()\n",
    "\n",
    "with open(\"encrypted.txt\", \"w\") as file:\n",
    "    file.write(hex_hash)\n",
    "\n",
    "print(f\"SHA256 Hash: {hex_hash}\")\n",
    "print(\"Encryption complete! Check 'encrypted.txt' for the hash.\")"
   ]
  }
 ],
 "metadata": {
  "kernelspec": {
   "display_name": "Python 3",
   "language": "python",
   "name": "python3"
  },
  "language_info": {
   "codemirror_mode": {
    "name": "ipython",
    "version": 3
   },
   "file_extension": ".py",
   "mimetype": "text/x-python",
   "name": "python",
   "nbconvert_exporter": "python",
   "pygments_lexer": "ipython3",
   "version": "3.12.4"
  }
 },
 "nbformat": 4,
 "nbformat_minor": 2
}
