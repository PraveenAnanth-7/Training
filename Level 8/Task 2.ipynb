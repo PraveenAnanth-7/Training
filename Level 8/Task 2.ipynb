{
 "cells": [
  {
   "cell_type": "code",
   "execution_count": 3,
   "metadata": {},
   "outputs": [],
   "source": [
    "from scipy import stats\n",
    "import numpy as np"
   ]
  },
  {
   "cell_type": "code",
   "execution_count": 4,
   "metadata": {},
   "outputs": [
    {
     "name": "stdout",
     "output_type": "stream",
     "text": [
      "T-statistic: 12.363815222241486\n",
      "P-value: 4.3706238867295203e-13\n"
     ]
    }
   ],
   "source": [
    "sample_data_t = np.random.normal(loc=140, scale=20, size=30)\n",
    "\n",
    "# Perform T-test\n",
    "t_stat, p_val = stats.ttest_1samp(sample_data_t, popmean=100)\n",
    "\n",
    "print(\"T-statistic:\", t_stat)\n",
    "print(\"P-value:\", p_val)"
   ]
  },
  {
   "cell_type": "code",
   "execution_count": 6,
   "metadata": {},
   "outputs": [
    {
     "name": "stdout",
     "output_type": "stream",
     "text": [
      "Result: Reject the null hypothesis. Medication likely affects IQ.\n"
     ]
    }
   ],
   "source": [
    "\n",
    "if p_val < 0.05:\n",
    "    print(\"Result: Reject the null hypothesis. Medication likely affects IQ.\")\n",
    "else:\n",
    "    print(\"Result: Fail to reject the null hypothesis.\")"
   ]
  }
 ],
 "metadata": {
  "kernelspec": {
   "display_name": "Python 3",
   "language": "python",
   "name": "python3"
  },
  "language_info": {
   "codemirror_mode": {
    "name": "ipython",
    "version": 3
   },
   "file_extension": ".py",
   "mimetype": "text/x-python",
   "name": "python",
   "nbconvert_exporter": "python",
   "pygments_lexer": "ipython3",
   "version": "3.12.4"
  }
 },
 "nbformat": 4,
 "nbformat_minor": 2
}
