{
 "cells": [
  {
   "cell_type": "code",
   "execution_count": 1,
   "metadata": {},
   "outputs": [],
   "source": [
    "import numpy as np"
   ]
  },
  {
   "cell_type": "code",
   "execution_count": 2,
   "metadata": {},
   "outputs": [
    {
     "name": "stdout",
     "output_type": "stream",
     "text": [
      "Simulated Probability of Success: 0.301\n",
      "Interpretation: Close to theoretical probability (0.3).\n"
     ]
    }
   ],
   "source": [
    "bernoulli_trials = np.random.binomial(n=1, p=0.3, size=1000)\n",
    "simulated_prob = np.mean(bernoulli_trials)\n",
    "\n",
    "print(\"Simulated Probability of Success:\", simulated_prob)\n",
    "print(\"Interpretation: Close to theoretical probability (0.3).\")"
   ]
  }
 ],
 "metadata": {
  "kernelspec": {
   "display_name": "Python 3",
   "language": "python",
   "name": "python3"
  },
  "language_info": {
   "codemirror_mode": {
    "name": "ipython",
    "version": 3
   },
   "file_extension": ".py",
   "mimetype": "text/x-python",
   "name": "python",
   "nbconvert_exporter": "python",
   "pygments_lexer": "ipython3",
   "version": "3.12.4"
  }
 },
 "nbformat": 4,
 "nbformat_minor": 2
}
