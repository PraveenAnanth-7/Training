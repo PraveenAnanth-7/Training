{
 "cells": [
  {
   "cell_type": "code",
   "execution_count": 1,
   "metadata": {},
   "outputs": [],
   "source": [
    "from scipy import stats"
   ]
  },
  {
   "cell_type": "code",
   "execution_count": 2,
   "metadata": {},
   "outputs": [
    {
     "name": "stdout",
     "output_type": "stream",
     "text": [
      "Chi-square Statistic: 232.494\n",
      "P-value: 3.270162712012095e-51\n",
      "Result: Reject null hypothesis. Age distribution has changed.\n"
     ]
    }
   ],
   "source": [
    "observed = [121, 288, 91]\n",
    "expected = [100, 150, 250]  \n",
    "chi2_stat, chi2_p = stats.chisquare(f_obs=observed, f_exp=expected)\n",
    "\n",
    "print(\"Chi-square Statistic:\", chi2_stat)\n",
    "print(\"P-value:\", chi2_p)\n",
    "\n",
    "if chi2_p < 0.05:\n",
    "    print(\"Result: Reject null hypothesis. Age distribution has changed.\")\n",
    "else:\n",
    "    print(\"Result: Fail to reject null hypothesis.\")"
   ]
  }
 ],
 "metadata": {
  "kernelspec": {
   "display_name": "Python 3",
   "language": "python",
   "name": "python3"
  },
  "language_info": {
   "codemirror_mode": {
    "name": "ipython",
    "version": 3
   },
   "file_extension": ".py",
   "mimetype": "text/x-python",
   "name": "python",
   "nbconvert_exporter": "python",
   "pygments_lexer": "ipython3",
   "version": "3.12.4"
  }
 },
 "nbformat": 4,
 "nbformat_minor": 2
}
