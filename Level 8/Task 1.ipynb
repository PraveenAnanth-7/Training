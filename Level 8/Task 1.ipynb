{
 "cells": [
  {
   "cell_type": "code",
   "execution_count": 1,
   "metadata": {},
   "outputs": [
    {
     "name": "stdout",
     "output_type": "stream",
     "text": [
      "Collecting statsmodels\n",
      "  Downloading statsmodels-0.14.4-cp312-cp312-win_amd64.whl.metadata (9.5 kB)\n",
      "Requirement already satisfied: numpy<3,>=1.22.3 in c:\\users\\praveen ananth\\appdata\\local\\programs\\python\\python312\\lib\\site-packages (from statsmodels) (2.1.0)\n",
      "Requirement already satisfied: scipy!=1.9.2,>=1.8 in c:\\users\\praveen ananth\\appdata\\local\\programs\\python\\python312\\lib\\site-packages (from statsmodels) (1.15.2)\n",
      "Requirement already satisfied: pandas!=2.1.0,>=1.4 in c:\\users\\praveen ananth\\appdata\\local\\programs\\python\\python312\\lib\\site-packages (from statsmodels) (2.2.2)\n",
      "Collecting patsy>=0.5.6 (from statsmodels)\n",
      "  Downloading patsy-1.0.1-py2.py3-none-any.whl.metadata (3.3 kB)\n",
      "Requirement already satisfied: packaging>=21.3 in c:\\users\\praveen ananth\\appdata\\local\\programs\\python\\python312\\lib\\site-packages (from statsmodels) (24.2)\n",
      "Requirement already satisfied: python-dateutil>=2.8.2 in c:\\users\\praveen ananth\\appdata\\local\\programs\\python\\python312\\lib\\site-packages (from pandas!=2.1.0,>=1.4->statsmodels) (2.9.0.post0)\n",
      "Requirement already satisfied: pytz>=2020.1 in c:\\users\\praveen ananth\\appdata\\local\\programs\\python\\python312\\lib\\site-packages (from pandas!=2.1.0,>=1.4->statsmodels) (2024.1)\n",
      "Requirement already satisfied: tzdata>=2022.7 in c:\\users\\praveen ananth\\appdata\\local\\programs\\python\\python312\\lib\\site-packages (from pandas!=2.1.0,>=1.4->statsmodels) (2024.1)\n",
      "Requirement already satisfied: six>=1.5 in c:\\users\\praveen ananth\\appdata\\local\\programs\\python\\python312\\lib\\site-packages (from python-dateutil>=2.8.2->pandas!=2.1.0,>=1.4->statsmodels) (1.16.0)\n",
      "Downloading statsmodels-0.14.4-cp312-cp312-win_amd64.whl (9.8 MB)\n",
      "   ---------------------------------------- 0.0/9.8 MB ? eta -:--:--\n",
      "   - -------------------------------------- 0.3/9.8 MB ? eta -:--:--\n",
      "   -- ------------------------------------- 0.5/9.8 MB 1.9 MB/s eta 0:00:06\n",
      "   ---- ----------------------------------- 1.0/9.8 MB 2.1 MB/s eta 0:00:05\n",
      "   ------ --------------------------------- 1.6/9.8 MB 2.3 MB/s eta 0:00:04\n",
      "   --------- ------------------------------ 2.4/9.8 MB 2.5 MB/s eta 0:00:04\n",
      "   ------------ --------------------------- 3.1/9.8 MB 2.6 MB/s eta 0:00:03\n",
      "   -------------- ------------------------- 3.7/9.8 MB 2.7 MB/s eta 0:00:03\n",
      "   ------------------ --------------------- 4.5/9.8 MB 2.9 MB/s eta 0:00:02\n",
      "   ------------------- -------------------- 4.7/9.8 MB 2.7 MB/s eta 0:00:02\n",
      "   --------------------- ------------------ 5.2/9.8 MB 2.6 MB/s eta 0:00:02\n",
      "   ---------------------- ----------------- 5.5/9.8 MB 2.6 MB/s eta 0:00:02\n",
      "   ----------------------- ---------------- 5.8/9.8 MB 2.5 MB/s eta 0:00:02\n",
      "   ------------------------ --------------- 6.0/9.8 MB 2.4 MB/s eta 0:00:02\n",
      "   ------------------------- -------------- 6.3/9.8 MB 2.2 MB/s eta 0:00:02\n",
      "   ------------------------- -------------- 6.3/9.8 MB 2.2 MB/s eta 0:00:02\n",
      "   -------------------------- ------------- 6.6/9.8 MB 2.0 MB/s eta 0:00:02\n",
      "   ---------------------------- ----------- 7.1/9.8 MB 2.0 MB/s eta 0:00:02\n",
      "   ---------------------------------- ----- 8.4/9.8 MB 2.3 MB/s eta 0:00:01\n",
      "   ---------------------------------------- 9.8/9.8 MB 2.5 MB/s eta 0:00:00\n",
      "Downloading patsy-1.0.1-py2.py3-none-any.whl (232 kB)\n",
      "Installing collected packages: patsy, statsmodels\n",
      "Successfully installed patsy-1.0.1 statsmodels-0.14.4\n",
      "Note: you may need to restart the kernel to use updated packages.\n"
     ]
    }
   ],
   "source": [
    "pip install statsmodels"
   ]
  },
  {
   "cell_type": "code",
   "execution_count": 2,
   "metadata": {},
   "outputs": [],
   "source": [
    "import numpy as np\n",
    "from statsmodels.stats.weightstats import ztest"
   ]
  },
  {
   "cell_type": "code",
   "execution_count": 3,
   "metadata": {},
   "outputs": [
    {
     "name": "stdout",
     "output_type": "stream",
     "text": [
      "Z-score: 19.49392966780242\n",
      "P-value: 1.2361379941211274e-84\n"
     ]
    }
   ],
   "source": [
    "sample_data = np.random.normal(loc=140, scale=15, size=30)\n",
    "\n",
    "z_score, p_value = ztest(sample_data, value=100)\n",
    "\n",
    "print(\"Z-score:\", z_score)\n",
    "print(\"P-value:\", p_value)"
   ]
  },
  {
   "cell_type": "code",
   "execution_count": 4,
   "metadata": {},
   "outputs": [
    {
     "name": "stdout",
     "output_type": "stream",
     "text": [
      "Result: Reject the null hypothesis. Medication likely affects IQ.\n"
     ]
    }
   ],
   "source": [
    "if p_value < 0.05:\n",
    "    print(\"Result: Reject the null hypothesis. Medication likely affects IQ.\")\n",
    "else:\n",
    "    print(\"Result: Fail to reject the null hypothesis. No significant effect.\")"
   ]
  }
 ],
 "metadata": {
  "kernelspec": {
   "display_name": "Python 3",
   "language": "python",
   "name": "python3"
  },
  "language_info": {
   "codemirror_mode": {
    "name": "ipython",
    "version": 3
   },
   "file_extension": ".py",
   "mimetype": "text/x-python",
   "name": "python",
   "nbconvert_exporter": "python",
   "pygments_lexer": "ipython3",
   "version": "3.12.4"
  }
 },
 "nbformat": 4,
 "nbformat_minor": 2
}
