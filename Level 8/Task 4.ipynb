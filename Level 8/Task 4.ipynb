{
 "cells": [
  {
   "cell_type": "code",
   "execution_count": 1,
   "metadata": {},
   "outputs": [
    {
     "name": "stdout",
     "output_type": "stream",
     "text": [
      "Covariance between height and weight: 45.83333333333333\n",
      "Interpretation: As height increases, weight also tends to increase.\n"
     ]
    }
   ],
   "source": [
    "import numpy as np\n",
    "\n",
    "height = np.array([160, 170, 180, 175])\n",
    "weight = np.array([60, 70, 75, 65])\n",
    "\n",
    "cov_matrix = np.cov(height, weight)\n",
    "cov_value = cov_matrix[0, 1]\n",
    "\n",
    "print(\"Covariance between height and weight:\", cov_value)\n",
    "\n",
    "if cov_value > 0:\n",
    "    print(\"Interpretation: As height increases, weight also tends to increase.\")\n",
    "else:\n",
    "    print(\"Interpretation: No positive relationship between height and weight.\")"
   ]
  }
 ],
 "metadata": {
  "kernelspec": {
   "display_name": "Python 3",
   "language": "python",
   "name": "python3"
  },
  "language_info": {
   "codemirror_mode": {
    "name": "ipython",
    "version": 3
   },
   "file_extension": ".py",
   "mimetype": "text/x-python",
   "name": "python",
   "nbconvert_exporter": "python",
   "pygments_lexer": "ipython3",
   "version": "3.12.4"
  }
 },
 "nbformat": 4,
 "nbformat_minor": 2
}
