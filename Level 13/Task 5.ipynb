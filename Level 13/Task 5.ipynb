{
  "nbformat": 4,
  "nbformat_minor": 0,
  "metadata": {
    "colab": {
      "provenance": []
    },
    "kernelspec": {
      "name": "python3",
      "display_name": "Python 3"
    },
    "language_info": {
      "name": "python"
    }
  },
  "cells": [
    {
      "cell_type": "code",
      "source": [
        "import pandas as pd\n",
        "import numpy as np\n",
        "from sklearn.datasets import fetch_california_housing\n",
        "from sklearn.model_selection import train_test_split, GridSearchCV\n",
        "from sklearn.metrics import mean_squared_error, accuracy_score\n",
        "from sklearn.preprocessing import StandardScaler\n",
        "from xgboost import XGBRegressor\n"
      ],
      "metadata": {
        "id": "q7SXGybRoBK8"
      },
      "execution_count": 12,
      "outputs": []
    },
    {
      "cell_type": "code",
      "source": [
        "housing = fetch_california_housing()\n",
        "df = pd.DataFrame(housing.data, columns=housing.feature_names)\n",
        "df['target'] = housing.target\n"
      ],
      "metadata": {
        "id": "NIrrp-pIn4SW"
      },
      "execution_count": 13,
      "outputs": []
    },
    {
      "cell_type": "code",
      "source": [
        "scaler = StandardScaler()\n",
        "numerical_cols = housing.feature_names\n",
        "df[numerical_cols] = scaler.fit_transform(df[numerical_cols])\n",
        "\n",
        "X = df.drop('target', axis=1)\n",
        "y = df['target']\n",
        "X_train, X_test, y_train, y_test = train_test_split(X, y, test_size=0.2, random_state=42)\n",
        "\n",
        "untuned_model = XGBRegressor(random_state=42)\n",
        "untuned_model.fit(X_train, y_train)\n",
        "untuned_preds = untuned_model.predict(X_test)\n",
        "untuned_mse = mean_squared_error(y_test, untuned_preds)"
      ],
      "metadata": {
        "id": "adnHH88ioFJp"
      },
      "execution_count": 14,
      "outputs": []
    },
    {
      "cell_type": "code",
      "source": [
        "param_grid = {\n",
        "    'max_depth': [3, 5],\n",
        "    'learning_rate': [0.01, 0.1]\n",
        "}\n",
        "\n",
        "tuned_model = XGBRegressor(random_state=42)\n",
        "grid_search = GridSearchCV(tuned_model, param_grid, cv=5, scoring='neg_mean_squared_error')\n",
        "grid_search.fit(X_train, y_train)\n",
        "\n",
        "best_params = grid_search.best_params_\n",
        "tuned_preds = grid_search.predict(X_test)\n",
        "tuned_mse = mean_squared_error(y_test, tuned_preds)\n",
        "\n",
        "print(\"Optimal Parameters:\", best_params)\n",
        "print(f\"Untuned Model MSE: {untuned_mse}\")\n",
        "print(f\"Tuned Model MSE: {tuned_mse}\")\n",
        "\n",
        "if tuned_mse < untuned_mse:\n",
        "    print(\"Tuning improved the model's performance.\")\n",
        "elif tuned_mse > untuned_mse:\n",
        "  print(\"Tuning did not improve the model's performance.\")\n",
        "else:\n",
        "    print(\"Tuning resulted in no change in model performance.\")\n"
      ],
      "metadata": {
        "colab": {
          "base_uri": "https://localhost:8080/"
        },
        "id": "kOI_F__loKFu",
        "outputId": "3224eb51-76e8-48b6-bb25-c52468846583"
      },
      "execution_count": 15,
      "outputs": [
        {
          "output_type": "stream",
          "name": "stdout",
          "text": [
            "Optimal Parameters: {'learning_rate': 0.1, 'max_depth': 5}\n",
            "Untuned Model MSE: 0.2225899267544737\n",
            "Tuned Model MSE: 0.2435998341534843\n",
            "Tuning did not improve the model's performance.\n"
          ]
        }
      ]
    }
  ]
}